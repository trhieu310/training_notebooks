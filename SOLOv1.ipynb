{
 "cells": [
  {
   "cell_type": "code",
   "execution_count": null,
   "metadata": {},
   "outputs": [],
   "source": [
    "!git clone -b hieunt https://github.com/trhieu310/customDataset.git SOLOV1\n",
    "%cd /kaggle/working/SOLOV1"
   ]
  },
  {
   "cell_type": "code",
   "execution_count": null,
   "metadata": {},
   "outputs": [],
   "source": [
    "%cd ./coco/\n",
    "!python setup.py install"
   ]
  },
  {
   "cell_type": "code",
   "execution_count": null,
   "metadata": {},
   "outputs": [],
   "source": [
    "%cd ..\n",
    "!python setup.py install"
   ]
  },
  {
   "cell_type": "code",
   "execution_count": null,
   "metadata": {},
   "outputs": [],
   "source": [
    "##add key wandb\n",
    "!wandb login 8ba792db7dc0074768892f4b9edb083d3a0507d3  --relogin"
   ]
  },
  {
   "cell_type": "code",
   "execution_count": null,
   "metadata": {},
   "outputs": [],
   "source": [
    "!python tools/train.py configs/solo/solo_r50_fpn_8gpu_1x_v27_46k.py  --resume_from ../../input/solo-release-r50-fpn-8gpu-1x-46k-epoch2/latest.pth"
   ]
  },
  {
   "cell_type": "code",
   "execution_count": null,
   "metadata": {},
   "outputs": [],
   "source": [
    "!python tools/test_ins.py configs/solo/solo_r50_fpn_8gpu_1x_v27_46k.py  ../../input/solo-release-r50-fpn-8gpu-1x-46k/latest.pth --show --out  results_solo.pkl --eval segm"
   ]
  },
  {
   "cell_type": "code",
   "execution_count": null,
   "metadata": {},
   "outputs": [],
   "source": [
    "!python tools/test_ins_vis.py  configs/solo/solo_r50_fpn_8gpu_1x_v27_46k.py ../../input/solo-release-r50-fpn-8gpu-1x-46k/epoch_1.pth --show --save_dir  work_dirs/vis_solo --datatype docslayout"
   ]
  }
 ],
 "metadata": {
  "language_info": {
   "name": "python"
  },
  "orig_nbformat": 4
 },
 "nbformat": 4,
 "nbformat_minor": 2
}
