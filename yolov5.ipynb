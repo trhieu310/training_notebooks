{
 "cells": [
  {
   "cell_type": "code",
   "execution_count": null,
   "metadata": {},
   "outputs": [],
   "source": [
    "!git clone https://github.com/trhieu310/customyolov5.git yolov5 # clone\n",
    "%cd yolov5\n",
    "%pip install -qr requirements.txt  # install\n",
    "\n",
    "import torch\n",
    "from yolov5 import utils\n",
    "display = utils.notebook_init()  # checks"
   ]
  },
  {
   "cell_type": "code",
   "execution_count": null,
   "metadata": {},
   "outputs": [],
   "source": [
    "%pip install -q wandb\n",
    "import wandb\n",
    "\n",
    "##add key wandb\n",
    "!wandb login 8ba792db7dc0074768892f4b9edb083d3a0507d3  --relogin"
   ]
  },
  {
   "cell_type": "code",
   "execution_count": null,
   "metadata": {},
   "outputs": [],
   "source": [
    "!python train.py --img 1024 --batch 6 --epochs 36 --data doc.yaml --weights ../../input/checkpoint-yolov5/epoch34-AdamW.pt --cfg yolov5x6_doc.yaml --save-period 1 --optimizer AdamW"
   ]
  },
  {
   "cell_type": "code",
   "execution_count": null,
   "metadata": {},
   "outputs": [],
   "source": [
    "!python val.py --weights ../../input/checkpoint-yolov5/epoch35-AdamW.pt --data doc.yaml --img 1024"
   ]
  }
 ],
 "metadata": {
  "language_info": {
   "name": "python"
  },
  "orig_nbformat": 4
 },
 "nbformat": 4,
 "nbformat_minor": 2
}
